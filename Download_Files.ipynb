{
  "nbformat": 4,
  "nbformat_minor": 0,
  "metadata": {
    "colab": {
      "name": "Download Files",
      "provenance": [],
      "collapsed_sections": [
        "tuhjSLEVyF2h",
        "Hz3w-UHlyaI2",
        "ZM732mhS2aQR",
        "tSE4TiJP6fM-",
        "LYlJZ5Jkvwu3",
        "4Essfaqo7QR8",
        "9Oqm92_I9t-Z"
      ],
      "authorship_tag": "ABX9TyP5FjPniIf9dpYbOlKyF+BV",
      "include_colab_link": true
    },
    "kernelspec": {
      "name": "python3",
      "display_name": "Python 3"
    },
    "language_info": {
      "name": "python"
    }
  },
  "cells": [
    {
      "cell_type": "markdown",
      "metadata": {
        "id": "view-in-github",
        "colab_type": "text"
      },
      "source": [
        "<a href=\"https://colab.research.google.com/github/sanheensethi/Download-Files-To-Cloud/blob/main/Download_Files.ipynb\" target=\"_parent\"><img src=\"https://colab.research.google.com/assets/colab-badge.svg\" alt=\"Open In Colab\"/></a>"
      ]
    },
    {
      "cell_type": "markdown",
      "metadata": {
        "id": "tuhjSLEVyF2h"
      },
      "source": [
        "#Mount Google Drive"
      ]
    },
    {
      "cell_type": "code",
      "metadata": {
        "id": "Q8eMMe1lEOEp"
      },
      "source": [
        " from google.colab import drive\n",
        "drive.mount('/content/gdrive')"
      ],
      "execution_count": null,
      "outputs": []
    },
    {
      "cell_type": "markdown",
      "metadata": {
        "id": "Hz3w-UHlyaI2"
      },
      "source": [
        "#Mount Mega\n",
        " \n",
        "- Type folder name in form in which you want to mount mega and put the same name when _rclone config_ runs\n",
        "- Storage > 21 is used for mega (will understand when you run)\n",
        "- You can mount multiple mega by re-run the cell but their **foldername should be different**\n",
        " \n",
        "> If Not Mounted : \n",
        " \n",
        "- This has bugs sometimes so run again the cell delete ('d') the already mounted but not showing folder, then rerun and mount again"
      ]
    },
    {
      "cell_type": "code",
      "metadata": {
        "cellView": "form",
        "id": "dPHmXfeJydWL"
      },
      "source": [
        "#@title Fill Form\n",
        "FolderName = '' #@param{type:\"string\"}\n",
        "!wget https://downloads.rclone.org/v1.53.1/rclone-v1.53.1-linux-amd64.deb\n",
        "!apt install ./rclone-v1.53.1-linux-amd64.deb\n",
        "print()\n",
        "print()\n",
        "print('RClone Config Working')\n",
        "print()\n",
        "print()\n",
        "!rclone config\n",
        "print()\n",
        "print()\n",
        "print('Creating Mega Drive')\n",
        "print()\n",
        "print()\n",
        "f = open('mountmega.sh','a+')\n",
        "f.write(f\"rm -r '/content/{FolderName}'\\n\")\n",
        "f.write(f\"sudo mkdir '/content/{FolderName}'\\n\")\n",
        "f.write(f\"nohup rclone --vfs-cache-mode writes mount {FolderName}: '/content/{FolderName}' &\")\n",
        "!sh mountmega.sh\n",
        "!rm mountmega.sh"
      ],
      "execution_count": null,
      "outputs": []
    },
    {
      "cell_type": "markdown",
      "metadata": {
        "id": "ZM732mhS2aQR"
      },
      "source": [
        "#Create Folder\n",
        "- Create Folder in path you want\n",
        "- Enter The Path In which you want to create folder\n",
        "- Enter The Folder Name\n",
        "  > Folder Name is single or multiple\n",
        " \n",
        "  > Example 1 : FolderName = dir1\n",
        " \n",
        "  > Example 2 : FolderName = dir1/dir2/dir3\n",
        " \n",
        "**Note : Remove '/' from last in Path**"
      ]
    },
    {
      "cell_type": "code",
      "metadata": {
        "cellView": "form",
        "id": "OWQGgbBU2j6u"
      },
      "source": [
        "#@title Fill Form\n",
        "Path = '/content' #@param {type:\"string\"}\n",
        "FolderName = 'Hi2' #@param {type:\"string\"}\n",
        "f = open('foldercreate.sh','w')\n",
        "f.write(f\"mkdir -p '{Path}/{FolderName}'\")\n",
        "f.close()\n",
        "!sh foldercreate.sh\n",
        "!rm foldercreate.sh"
      ],
      "execution_count": 18,
      "outputs": []
    },
    {
      "cell_type": "markdown",
      "metadata": {
        "id": "tSE4TiJP6fM-"
      },
      "source": [
        "#Download Files\n",
        " \n",
        "- Enter URL ~ remove '**?a=view**' from URL in last\n",
        "- Enter Folder Full Path in which you want to save in SaveIn \n",
        "- Enter Username of Website\n",
        "-Enter Password of Website"
      ]
    },
    {
      "cell_type": "markdown",
      "metadata": {
        "id": "vZJPPwFn6Uc-"
      },
      "source": [
        "**Sometimes It Shows 500 Internal Server Error**\n",
        "- Just Reload the website from where you copy the link\n",
        "- Copy the link and Paste it or try after sometime\n",
        "- It Works in my case! Hope you have better luck"
      ]
    },
    {
      "cell_type": "code",
      "metadata": {
        "id": "P_nc2oIw6ezz",
        "cellView": "form"
      },
      "source": [
        "#@title Fill Form\n",
        "URL = '' #@param {type:\"string\"}\n",
        "SaveIn = '' #@param {type:\"string\"}\n",
        "Username = '' #@param {type:\"string\"}\n",
        "Password = '' #@param {type:\"string\"}\n",
        "f = open('download.sh','w')\n",
        "f.write(f\"wget --user={Username} --password={Password} '{URL}' --directory={SaveIn}\")\n",
        "f.close()\n",
        "!sh download.sh\n",
        "!rm download.sh"
      ],
      "execution_count": null,
      "outputs": []
    },
    {
      "cell_type": "markdown",
      "metadata": {
        "id": "LYlJZ5Jkvwu3"
      },
      "source": [
        "#Read Links From File\n",
        " \n",
        "- Enter the FolderPath where you want to download all the files\n",
        "- **You have to write links in a .txt file and upload it**\n",
        "- Just Wait and Have Coffee !\n",
        " \n",
        "**NOTE : Remove '_?a=view_' from all the links before uploding !** \n",
        " \n",
        "(How Fast you can ? Just paste the links and CRTL + H to replace the '?a=view' with blank space"
      ]
    },
    {
      "cell_type": "markdown",
      "metadata": {
        "id": "3rL_6afY685X"
      },
      "source": [
        " **Sometimes It Shows 500 Internal Server Error**- Just Reload the website from where you copy the link\n",
        "- Copy the link and Paste it or try after sometime\n",
        "- It Works in my case! Hope you have better luck"
      ]
    },
    {
      "cell_type": "code",
      "metadata": {
        "cellView": "form",
        "id": "J2nI7m-rwNtk"
      },
      "source": [
        "#@title Fill Form\n",
        "SaveIn = '' #@param{type:\"string\"}\n",
        "Username = '' #@param{type:\"string\"}\n",
        "Password = '' #@param{type:\"string\"}\n",
        "from google.colab import files\n",
        "uploaded = files.upload()\n",
        "f = open(next(iter(uploaded)),'r')\n",
        "lines = f.readlines()\n",
        "down = open(\"filesDownload.sh\",\"a\")\n",
        "for line in lines:\n",
        "     print(f\"wget --user={Username} --password={Password} '{line.strip()}' --directory={SaveIn}\")\n",
        "     down.write(f\"wget --user={Username} --password={Password} '{line.strip()}' --directory={SaveIn}\\n\")\n",
        "!sh filesDownload.sh\n",
        "!rm -r download.sh"
      ],
      "execution_count": null,
      "outputs": []
    },
    {
      "cell_type": "markdown",
      "metadata": {
        "id": "4Essfaqo7QR8"
      },
      "source": [
        "#Tar Folder\n",
        " \n",
        "- Enter the FolderPath which you want to Tar\n",
        "- Enter the Tar File Name (without extension .tar)\n",
        "- Enter The Path where you want to save the .tar file (remove '/' from the last of path)"
      ]
    },
    {
      "cell_type": "code",
      "metadata": {
        "cellView": "form",
        "id": "T2BMAc207Ud7"
      },
      "source": [
        "#@title Fill Form\n",
        "FolderPath = '/content/Hi' #@param{type:\"string\"}\n",
        "TarFileName = 'Hi'  #@param{type:\"string\"}\n",
        "SaveIn = '' #@param{type:\"string\"}\n",
        "f  = open(\"tar.sh\",\"w\")\n",
        "if(SaveIn is ''):\n",
        "    f.write(f\"tar -cvf '{TarFileName}.tar' '{FolderPath}'\")\n",
        "else:\n",
        "    f.write(f\"tar -cvf '{SaveIn}/{TarFileName}.tar' '{FolderPath}' \")\n",
        "f.close()\n",
        "!sh tar.sh\n",
        "!rm tar.sh"
      ],
      "execution_count": null,
      "outputs": []
    },
    {
      "cell_type": "markdown",
      "metadata": {
        "id": "9Oqm92_I9t-Z"
      },
      "source": [
        "#UnTar Tar File\n",
        " \n",
        "- Enter the Full Path of File with Filename which you want to UnTar\n",
        "- Enter The Path where you want to save the files of untar (remove '/' from the last of path)"
      ]
    },
    {
      "cell_type": "code",
      "metadata": {
        "cellView": "form",
        "id": "jTMXO2iA-HWd"
      },
      "source": [
        "#@title Fill Form\n",
        "TarFileName = '/content/Hi.tar'  #@param{type:\"string\"}\n",
        "SaveIn = '' #@param{type:\"string\"}\n",
        "f  = open(\"untar.sh\",\"w\")\n",
        "!mkdir untar\n",
        "if(SaveIn is ''):\n",
        "    f.write(f\"tar -xvf '{TarFileName}' --directory='/content/untar'\")\n",
        "else:\n",
        "    f.write(f\"tar -xvf '{TarFileName}' --directory='{SaveIn}' \")\n",
        "f.close()\n",
        "!sh untar.sh\n",
        "!rm untar.sh"
      ],
      "execution_count": null,
      "outputs": []
    }
  ]
}